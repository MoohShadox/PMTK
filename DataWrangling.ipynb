{
 "cells": [
  {
   "cell_type": "code",
   "execution_count": 1,
   "id": "e895e18f-4bd7-479c-88da-5de80e0b35c5",
   "metadata": {},
   "outputs": [],
   "source": [
    "import pandas as pd\n",
    "import numpy as np\n",
    "import json\n",
    "\n",
    "data = json.loads(<your_string>)"
   ]
  },
  {
   "cell_type": "code",
   "execution_count": 30,
   "id": "e6f71d6b-d6d9-4d55-9362-9e5064c847a7",
   "metadata": {},
   "outputs": [
    {
     "name": "stderr",
     "output_type": "stream",
     "text": [
      "/tmp/ipykernel_1294/657109516.py:1: DtypeWarning: Columns (10) have mixed types. Specify dtype option on import or set low_memory=False.\n",
      "  df = pd.read_csv(\"data/movies_metadata.csv\", sep = \",\")\n"
     ]
    },
    {
     "data": {
      "text/plain": [
       "0                          Toy Story\n",
       "1                            Jumanji\n",
       "2                   Grumpier Old Men\n",
       "3                  Waiting to Exhale\n",
       "4        Father of the Bride Part II\n",
       "                    ...             \n",
       "45461                        رگ خواب\n",
       "45462            Siglo ng Pagluluwal\n",
       "45463                       Betrayal\n",
       "45464            Satana likuyushchiy\n",
       "45465                       Queerama\n",
       "Name: original_title, Length: 45466, dtype: object"
      ]
     },
     "execution_count": 30,
     "metadata": {},
     "output_type": "execute_result"
    }
   ],
   "source": [
    "df = pd.read_csv(\"data/movies_metadata.csv\", sep = \",\")\n",
    "\n",
    "str_to_dict = lambda x:json.loads(x.replace(\"'\", '\"'))\n",
    "df[\"original_title\"]"
   ]
  },
  {
   "cell_type": "code",
   "execution_count": 25,
   "id": "6c0a24ab-eaae-45f6-9f97-c038741192e9",
   "metadata": {},
   "outputs": [
    {
     "data": {
      "text/plain": [
       "32"
      ]
     },
     "execution_count": 25,
     "metadata": {},
     "output_type": "execute_result"
    }
   ],
   "source": [
    "s = set()\n",
    "for g in df[\"genres\"]:\n",
    "    LD = str_to_dict(g)\n",
    "    for D in LD:\n",
    "        s.update([D[\"name\"]])\n",
    "    \n",
    "len(s)"
   ]
  },
  {
   "cell_type": "code",
   "execution_count": null,
   "id": "a6f19c80-3469-4acc-85c3-bbb959cc5cd8",
   "metadata": {},
   "outputs": [],
   "source": []
  }
 ],
 "metadata": {
  "kernelspec": {
   "display_name": "Python 3 (ipykernel)",
   "language": "python",
   "name": "python3"
  },
  "language_info": {
   "codemirror_mode": {
    "name": "ipython",
    "version": 3
   },
   "file_extension": ".py",
   "mimetype": "text/x-python",
   "name": "python",
   "nbconvert_exporter": "python",
   "pygments_lexer": "ipython3",
   "version": "3.9.10"
  }
 },
 "nbformat": 4,
 "nbformat_minor": 5
}

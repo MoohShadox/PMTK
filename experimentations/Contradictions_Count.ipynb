{
 "cells": [
  {
   "cell_type": "code",
   "execution_count": 1,
   "id": "46e4debf-9f96-40a0-903e-d73f07d42cef",
   "metadata": {},
   "outputs": [],
   "source": [
    "import numpy as np\n",
    "import matplotlib.pyplot as plt\n",
    "import itertools\n",
    "from PMTK.random.preferences_sampler import sample_preferences_from_order, sample_preferences_from_complete_order\n",
    "from PMTK.utils import *\n",
    "from PMTK.random.subset_samplers import sample_subsets\n",
    "from PMTK.utility.additive_utility import AdditiveUtility\n",
    "from PMTK.preferences import *\n",
    "from PMTK.utility.utility_fitter import Utility_Fitter\n",
    "from PMTK.utility.extension_solver import *\n",
    "from tqdm import tqdm"
   ]
  },
  {
   "cell_type": "code",
   "execution_count": 2,
   "id": "cc54e00b-0ea8-4ca4-b260-db4f70d85861",
   "metadata": {},
   "outputs": [],
   "source": [
    "def get_all_explicative(x,y):\n",
    "    s_i = get_all_k_sets(x, len(x))\n",
    "    s_j = get_all_k_sets(y, len(y))\n",
    "    theta = []\n",
    "    for x in s_i:\n",
    "        if x not in s_j:\n",
    "            theta.append(x)\n",
    "    \n",
    "    for x in s_j:\n",
    "        if x not in s_i:\n",
    "            theta.append(x)\n",
    "    theta = list(set(theta))\n",
    "    return theta\n",
    "\n",
    "def equal_lists(L1, L2):\n",
    "    return all([i in L1 for i in L2]) and all([i in L2 for i in L1])\n",
    "\n",
    "def exists(e,L):\n",
    "    for i in L:\n",
    "        if equal_lists(i,e):\n",
    "            return True\n",
    "    return False\n",
    "\n",
    "def keep_unique(L):\n",
    "    k = []\n",
    "    for i in L:\n",
    "        if not i in k:\n",
    "            k.append(i)\n",
    "    return k\n",
    "\n",
    "def keep_unique_tuples(L):\n",
    "    k = []\n",
    "    for i in L:\n",
    "        if not exists(i,k):\n",
    "            k.append(i)\n",
    "    return k\n",
    "\n",
    "\n",
    "def get_preferences(theta, items, subsets, preferences):\n",
    "    UF = Utility_Fitter(items, theta)\n",
    "    UF.set_preferences(preferences).set_model(theta).build_vars().build_preferences_cst()\n",
    "    p = UF.get_robust_preferences(subsets, verbose=False)\n",
    "    return p\n",
    "\n",
    "def get_all_preferences(thetas, items, subsets, preferences):\n",
    "    D = {}\n",
    "    for theta in tqdm(thetas):\n",
    "        p = get_preferences(theta, items, subsets, preferences)\n",
    "        D[tuple(theta)] = p\n",
    "    return D\n",
    "\n",
    "def product(L):\n",
    "    p = 1\n",
    "    for i in L:\n",
    "        p *= i\n",
    "    return p\n",
    "\n",
    "def get_all_thetas(preferences):\n",
    "    explications = []\n",
    "    for x,y in preferences.preferred:\n",
    "        c = get_all_explicative(x,y)\n",
    "        explications.append(c)\n",
    "    L = [keep_unique(i) for i in itertools.product(*explications)]\n",
    "    return keep_unique_tuples(L)\n",
    "\n",
    "def preference_complexity(x,y):\n",
    "    return 2**len(x) + 2**len(y) - (len(set(x).intersection(set(y))))\n",
    "\n",
    "def prune_non_compatible_thetas(items, preferences, thetas):\n",
    "    n_theta = []\n",
    "    removed_n = 0\n",
    "    for i in thetas:\n",
    "        UF = Utility_Fitter(items, i)\n",
    "        UF.set_preferences(preferences).set_model(i).build_vars().build_preferences_cst().run(UF.get_most_discriminant_utility)\n",
    "        if UF.get_utility() != None:\n",
    "            n_theta.append(i)\n",
    "        else:\n",
    "            removed_n = removed_n + 1\n",
    "    return n_theta, removed_n\n",
    "\n",
    "\n",
    "def run_simulation(items, preferences):\n",
    "    L = get_all_thetas(preferences)\n",
    "    theta_prunned, n_removed = prune_non_compatible_thetas(items, preferences, L)\n",
    "    all_subsets = sorted(get_all_k_sets(items, len(items))+[EMPTY_SET])\n",
    "    pref_dict = get_all_preferences(theta_prunned, items, all_subsets, preferences)\n",
    "    return pref_dict, n_removed\n",
    "\n",
    "def test_compatibility_with_original_prefs(items, preferences, thetas):\n",
    "    print(\"Testing the difference between p_1 and preferences\")\n",
    "    for theta in prune_non_compatible_thetas(items, preferences, thetas):\n",
    "        all_subsets = sorted(get_all_k_sets(items, len(items))+[EMPTY_SET])\n",
    "        print(\"========\")\n",
    "        print(\"Theta:\", theta)\n",
    "        try:\n",
    "            p_1 = get_preferences(theta, items, all_subsets, preferences)\n",
    "        except:\n",
    "            print(\"Cannot represent the preferences\")\n",
    "            continue\n",
    "        print(preferences - p_1)\n",
    "        break\n",
    "    \n",
    "def count_contradictions(pref_dict):\n",
    "    theta_keys = list(pref_dict.keys())\n",
    "    contradictions = np.zeros((len(pref_dict.keys()), len(pref_dict.keys())))\n",
    "    produced_preferences = np.zeros(len(theta_keys))\n",
    "    for theta_1 in pref_dict:\n",
    "        p_1 = pref_dict[theta_1]\n",
    "        produced_preferences[theta_keys.index(theta_1)] = len(p_1 - preferences)\n",
    "        for theta_2 in pref_dict:\n",
    "            if theta_1 == theta_2:\n",
    "                continue\n",
    "            p_2 = pref_dict[theta_2]\n",
    "            c_1_2 = p_1.contradictions(p_2)\n",
    "            contradictions[theta_keys.index(theta_1), theta_keys.index(theta_2)] = len(c_1_2)\n",
    "    return contradictions, produced_preferences\n",
    "\n",
    "def union_preferences(items, preferences):\n",
    "    P = Preferences(items)\n",
    "    for i in preferences:\n",
    "        P = P + i\n",
    "    return P\n",
    "\n",
    "def intersection_preferences(items, preferences):\n",
    "    P = union_preferences(items, preferences)\n",
    "    for i in preferences:\n",
    "        P = P.intersect(i)\n",
    "    return P\n",
    "\n",
    "def additivity(theta):\n",
    "    L = []\n",
    "    for s in theta:\n",
    "        L.append(len(s))\n",
    "    return max(L)\n",
    "    \n",
    "def compute_k_min(thetas):\n",
    "    k = []\n",
    "    for theta in thetas:\n",
    "        k.append(additivity(theta))\n",
    "    return min(k)\n",
    "\n",
    "def compute_min_size(thetas):\n",
    "    sizes = []\n",
    "    for theta in thetas:\n",
    "        sizes.append(len(theta))\n",
    "    return min(sizes)\n",
    "\n",
    "def get_theta_min(thetas):\n",
    "    k = compute_k_min(thetas)\n",
    "    theta_min = []\n",
    "    for theta in thetas:\n",
    "        if additivity(theta) <= k:\n",
    "            theta_min.append(theta)\n",
    "    size_min = compute_min_size(thetas)\n",
    "    theta_min_2 = []\n",
    "    for t in theta_min:\n",
    "        if len(t) <= size_min:\n",
    "            theta_min_2.append(t)\n",
    "    return theta_min_2\n",
    "\n",
    "def inclusion(S1,S2):\n",
    "    for i in S1:\n",
    "        if not i in S2:\n",
    "            return False\n",
    "    return True\n",
    "\n",
    "def print_no_contradictions(pref_dict):\n",
    "    thetas = list(pref_dict.keys())\n",
    "    contradictions, produced_pref = count_contradictions(pref_dict)\n",
    "    k = np.where(contradictions == 0.0)\n",
    "    x_y = set([(x, y) for x,y in zip(k[0], k[1])])\n",
    "    for x,y in x_y:\n",
    "        print(thetas[x] ,\"===\" ,thetas[y])\n",
    "\n"
   ]
  },
  {
   "cell_type": "code",
   "execution_count": 3,
   "id": "3c35e4ae-1e20-4e1c-82f2-4367b849e52d",
   "metadata": {},
   "outputs": [],
   "source": [
    "def generate_tractable_prefs(n_items, n_preferences, t_min = 10000, t_max = 30000, MAX_ITER = 100):\n",
    "    cpt = 0\n",
    "    while(True):\n",
    "        cpt = cpt + 1\n",
    "        if(cpt == MAX_ITER):\n",
    "            print(\"Reached max iter without finding\")\n",
    "            return None\n",
    "        n_items = 4\n",
    "        n_preferences = 5\n",
    "        items = np.arange(n_items)\n",
    "        preferences = sample_preferences_from_order(items, n_preferences, indifference_rate=0).sort_by_n_candidates()\n",
    "        explications = []\n",
    "        for x,y in preferences.preferred:\n",
    "            c = get_all_explicative(x,y)\n",
    "            explications.append(c)\n",
    "        n = product([len(i) for i in explications])\n",
    "        if n >= t_min and n <= t_max: \n",
    "            return preferences"
   ]
  },
  {
   "cell_type": "code",
   "execution_count": 4,
   "id": "9eae7ee1-e8f7-4ddf-8a0f-0dd76f9e5bd1",
   "metadata": {},
   "outputs": [],
   "source": [
    "p = generate_tractable_prefs(4, 10)"
   ]
  },
  {
   "cell_type": "code",
   "execution_count": 5,
   "id": "ed1ae29f-f267-4db6-961a-42b9c1f241ea",
   "metadata": {},
   "outputs": [
    {
     "name": "stderr",
     "output_type": "stream",
     "text": [
      "100%|██████████| 42/42 [07:38<00:00, 10.93s/it]\n"
     ]
    },
    {
     "name": "stdout",
     "output_type": "stream",
     "text": [
      "Theta min:  [((2,), (1,), (0,))]\n",
      "non contradictory thetas :  [((2,), (1,), (0, 1), (1, 2), (0,)), ((2,), (1,), (0, 1), (1, 2), (0, 2)), ((2,), (1,), (0, 1), (1, 2), (0, 1, 2)), ((2,), (1,), (0, 1), (1, 2)), ((2,), (1,), (1, 2), (0,)), ((2,), (1,), (1, 2), (0, 2)), ((2,), (1,), (1, 2), (0, 1, 2)), ((2,), (1,), (1, 2), (0, 1, 2), (0,)), ((2,), (1,), (1, 2), (0, 1, 2), (0, 2)), ((2,), (1,), (1, 2), (0, 2), (0,)), ((2,), (1,), (1, 2), (0, 1), (0, 1, 2), (0,)), ((2,), (1,), (1, 2), (0, 1), (0, 1, 2), (0, 2)), ((2,), (1,), (1, 2), (0, 1), (0, 2), (0,)), ((2,), (1,), (1, 2), (0, 1, 2), (0, 2), (0,))]\n",
      "non contradictory theta min :  [((2,), (1,), (0,))]\n",
      "Elements that are not contradictory in theta min are not in the not contradictory elements of theta\n",
      "Size of the intersection of theta preferences:  34\n",
      "Size of the intersection of theta_min preferences: 114\n"
     ]
    },
    {
     "name": "stderr",
     "output_type": "stream",
     "text": [
      "100%|██████████| 55/55 [08:28<00:00,  9.25s/it]\n"
     ]
    },
    {
     "name": "stdout",
     "output_type": "stream",
     "text": [
      "Theta min:  [((0,), (1,)), ((0,), (2,))]\n",
      "non contradictory thetas :  [((0,), (1,), (0, 1), (2,)), ((0,), (1,), (0, 1), (2,), (0, 2)), ((0,), (1,), (0, 1), (2,), (0, 1, 2)), ((0,), (1,), (0, 1), (1, 2)), ((0,), (1,), (0, 1), (1, 2), (0, 2)), ((0,), (1,), (0, 1), (1, 2), (0, 1, 2)), ((0,), (1,), (2,)), ((0,), (1,), (2,), (0, 2)), ((0,), (1,), (2,), (0, 1, 2)), ((0,), (1,), (2,), (1, 2)), ((0,), (1,), (2,), (1, 2), (0, 2)), ((0,), (1,), (2,), (1, 2), (0, 1, 2)), ((0,), (1,), (2,), (1, 2), (0, 1)), ((0,), (1,), (2,), (0, 2), (0, 1, 2)), ((0,), (1,), (1, 2)), ((0,), (1,), (1, 2), (0, 2)), ((0,), (1,), (1, 2), (0, 1, 2)), ((0,), (1,), (1, 2), (0, 2), (0, 1, 2)), ((0,), (1,), (1, 2), (0, 1), (2,), (0, 2)), ((0,), (1,), (1, 2), (0, 1), (2,), (0, 1, 2)), ((0,), (1,), (1, 2), (0, 1), (0, 2), (0, 1, 2)), ((0,), (1,), (1, 2), (2,), (0, 2), (0, 1, 2)), ((0,), (1,), (2,), (0, 1), (0, 2), (0, 1, 2)), ((0,), (1, 2), (0, 1)), ((0,), (1, 2), (0, 1), (0, 2)), ((0,), (1, 2), (0, 1), (0, 1, 2)), ((0,), (1, 2), (0, 1), (2,)), ((0,), (1, 2), (0, 1), (2,), (0, 2)), ((0,), (1, 2), (0, 1), (2,), (0, 1, 2)), ((0,), (1, 2), (0, 1), (0, 2), (0, 1, 2)), ((0,), (1, 2), (2,)), ((0,), (1, 2), (2,), (0, 2)), ((0,), (1, 2), (2,), (0, 1, 2)), ((0,), (1, 2), (2,), (0, 2), (0, 1, 2)), ((0,), (1, 2)), ((0,), (1, 2), (0, 2)), ((0,), (1, 2), (0, 1, 2)), ((0,), (1, 2), (0, 2), (0, 1, 2)), ((0,), (1, 2), (2,), (0, 1), (0, 2), (0, 1, 2))]\n",
      "non contradictory theta min :  []\n",
      "Size of the intersection of theta preferences:  34\n",
      "Size of the intersection of theta_min preferences: 82\n"
     ]
    },
    {
     "name": "stderr",
     "output_type": "stream",
     "text": [
      "100%|██████████| 168/168 [24:51<00:00,  8.88s/it]\n"
     ]
    },
    {
     "name": "stdout",
     "output_type": "stream",
     "text": [
      "Theta min:  [((0,), (1,), (2,)), ((0,), (1,), (3,)), ((0,), (3,), (2,))]\n",
      "non contradictory thetas :  [((0,), (1,), (1, 3), (2,), (0, 3), (2, 3)), ((0,), (1,), (1, 3), (0, 3), (2, 3), (0, 2))]\n",
      "non contradictory theta min :  []\n",
      "Size of the intersection of theta preferences:  1\n",
      "Size of the intersection of theta_min preferences: 34\n"
     ]
    },
    {
     "name": "stderr",
     "output_type": "stream",
     "text": [
      "100%|██████████| 168/168 [24:04<00:00,  8.60s/it]\n"
     ]
    },
    {
     "name": "stdout",
     "output_type": "stream",
     "text": [
      "Theta min:  [((2,), (0,), (1,)), ((2,), (0,), (3,)), ((2,), (3,), (1,))]\n",
      "non contradictory thetas :  []\n",
      "non contradictory theta min :  []\n",
      "Size of the intersection of theta preferences:  1\n",
      "Size of the intersection of theta_min preferences: 48\n"
     ]
    },
    {
     "name": "stderr",
     "output_type": "stream",
     "text": [
      "100%|██████████| 306/306 [43:45<00:00,  8.58s/it]\n"
     ]
    },
    {
     "name": "stdout",
     "output_type": "stream",
     "text": [
      "Theta min:  [((0,), (1,), (3,)), ((0,), (2,), (3,)), ((2,), (1,), (3,))]\n",
      "non contradictory thetas :  [((0,), (1,), (2,), (2, 3), (1, 2)), ((0,), (1,), (2,), (2, 3), (0, 2)), ((0,), (1,), (2,), (0, 2, 3), (1, 2)), ((0,), (1,), (2,), (0, 2, 3), (0, 2)), ((0,), (1,), (2,), (0, 3), (1, 2)), ((0,), (1,), (2,), (0, 3), (0, 2)), ((0,), (1,), (2,), (3,), (1, 2)), ((0,), (1,), (2,), (3,), (0, 2)), ((0,), (1,), (0, 2), (2,), (2, 3), (1, 2)), ((0,), (1,), (0, 2), (2,), (2, 3), (0, 3)), ((0,), (1,), (0, 2), (2,), (2, 3), (0, 2, 3)), ((0,), (1,), (0, 2), (2,), (2, 3), (3,)), ((0,), (1,), (0, 2), (2,), (0, 2, 3), (1, 2)), ((0,), (1,), (0, 2), (2,), (0, 2, 3), (0, 3)), ((0,), (1,), (0, 2), (2,), (0, 2, 3), (3,)), ((0,), (1,), (0, 2), (2,), (0, 3), (1, 2)), ((0,), (1,), (0, 2), (2,), (0, 3), (3,)), ((0,), (1,), (0, 2), (2,), (3,), (1, 2)), ((0,), (1,), (1, 2), (2,), (2, 3), (0, 3)), ((0,), (1,), (1, 2), (2,), (2, 3), (0, 2, 3)), ((0,), (1,), (1, 2), (2,), (2, 3), (3,)), ((0,), (1,), (1, 2), (2,), (0, 2, 3), (0, 3)), ((0,), (1,), (1, 2), (2,), (0, 2, 3), (3,)), ((0,), (1,), (1, 2), (2,), (0, 3), (3,)), ((0,), (1, 2), (2,), (2, 3)), ((0,), (1, 2), (2,), (2, 3), (0, 3)), ((0,), (1, 2), (2,), (2, 3), (0, 2, 3)), ((0,), (1, 2), (2,), (2, 3), (0, 2)), ((0,), (1, 2), (2,), (2, 3), (3,)), ((0,), (1, 2), (0, 2), (2,), (2, 3), (0, 3)), ((0,), (1, 2), (0, 2), (2,), (2, 3), (0, 2, 3)), ((0,), (1, 2), (0, 2), (2,), (2, 3), (3,)), ((0,), (2,), (1, 2), (0, 3), (2, 3), (0, 2, 3)), ((0,), (2,), (1, 2), (0, 3), (2, 3), (3,)), ((0,), (2,), (1, 2), (0, 2, 3), (2, 3), (3,))]\n",
      "non contradictory theta min :  []\n",
      "Size of the intersection of theta preferences:  1\n",
      "Size of the intersection of theta_min preferences: 39\n"
     ]
    },
    {
     "name": "stderr",
     "output_type": "stream",
     "text": [
      "100%|██████████| 306/306 [43:55<00:00,  8.61s/it]\n"
     ]
    },
    {
     "name": "stdout",
     "output_type": "stream",
     "text": [
      "Theta min:  [((1,), (0,), (3,)), ((1,), (2,), (3,)), ((2,), (0,), (3,))]\n",
      "non contradictory thetas :  [((1,), (0,), (2,), (2, 3), (1, 2)), ((1,), (0,), (2,), (2, 3), (0, 2)), ((1,), (0,), (2,), (0, 2, 3), (1, 2)), ((1,), (0,), (2,), (0, 2, 3), (0, 2)), ((1,), (0,), (2,), (0, 3), (1, 2)), ((1,), (0,), (2,), (0, 3), (0, 2)), ((1,), (0,), (2,), (3,), (1, 2)), ((1,), (0,), (2,), (3,), (0, 2)), ((1,), (0,), (0, 2), (2,), (2, 3), (1, 2)), ((1,), (0,), (0, 2), (2,), (2, 3), (0, 3)), ((1,), (0,), (0, 2), (2,), (2, 3), (0, 2, 3)), ((1,), (0,), (0, 2), (2,), (2, 3), (3,)), ((1,), (0,), (0, 2), (2,), (0, 2, 3), (1, 2)), ((1,), (0,), (0, 2), (2,), (0, 2, 3), (0, 3)), ((1,), (0,), (0, 2), (2,), (0, 2, 3), (3,)), ((1,), (0,), (0, 2), (2,), (0, 3), (1, 2)), ((1,), (0,), (0, 2), (2,), (0, 3), (3,)), ((1,), (0,), (0, 2), (2,), (3,), (1, 2)), ((1,), (0,), (1, 2), (2,), (2, 3), (0, 3)), ((1,), (0,), (1, 2), (2,), (2, 3), (0, 2, 3)), ((1,), (0,), (1, 2), (2,), (2, 3), (3,)), ((1,), (0,), (1, 2), (2,), (0, 2, 3), (0, 3)), ((1,), (0,), (1, 2), (2,), (0, 2, 3), (3,)), ((1,), (0,), (1, 2), (2,), (0, 3), (3,)), ((1,), (0, 2), (2,), (2, 3), (0, 3)), ((1,), (0, 2), (2,), (2, 3), (3,)), ((1,), (0, 2), (2,), (0, 2, 3), (0, 3)), ((1,), (0, 2), (2,), (0, 2, 3), (3,)), ((1,), (0, 2), (1, 2), (2,), (2, 3), (0, 3)), ((1,), (0, 2), (1, 2), (2,), (2, 3), (3,)), ((1,), (0, 2), (1, 2), (2,), (0, 2, 3), (0, 3)), ((1,), (0, 2), (1, 2), (2,), (0, 2, 3), (3,)), ((1,), (2,), (0, 2), (0, 3), (2, 3), (0, 2, 3)), ((1,), (2,), (0, 2), (0, 3), (2, 3), (3,)), ((1,), (2,), (0, 2), (0, 3), (0, 2, 3), (3,)), ((1,), (2,), (0, 2), (0, 2, 3), (2, 3), (3,))]\n",
      "non contradictory theta min :  []\n",
      "Size of the intersection of theta preferences:  1\n",
      "Size of the intersection of theta_min preferences: 39\n"
     ]
    },
    {
     "name": "stderr",
     "output_type": "stream",
     "text": [
      "100%|██████████| 306/306 [43:56<00:00,  8.62s/it]\n"
     ]
    },
    {
     "name": "stdout",
     "output_type": "stream",
     "text": [
      "Theta min:  [((0,), (1,), (2,)), ((0,), (3,), (2,)), ((1,), (3,), (2,))]\n",
      "non contradictory thetas :  [((0,), (0, 3), (0, 1), (1,), (1, 2), (3,)), ((0,), (0, 3), (0, 1), (1,), (0, 2), (3,)), ((0,), (0, 3), (0, 1), (1,), (2,), (3,)), ((0,), (0, 3), (0, 1), (1,), (0, 1, 2), (3,)), ((1,), (0, 3), (0, 1), (2,), (1, 2), (3,)), ((1,), (0, 3), (0, 1), (2,), (0, 1, 2), (3,)), ((1,), (0, 3), (0, 1), (1, 2), (0, 2), (3,)), ((1,), (0, 3), (0, 1), (0, 1, 2), (0, 2), (3,))]\n",
      "non contradictory theta min :  []\n",
      "Size of the intersection of theta preferences:  1\n",
      "Size of the intersection of theta_min preferences: 34\n"
     ]
    },
    {
     "name": "stderr",
     "output_type": "stream",
     "text": [
      "100%|██████████| 325/325 [46:45<00:00,  8.63s/it]\n"
     ]
    },
    {
     "name": "stdout",
     "output_type": "stream",
     "text": [
      "Theta min:  [((0,), (1,)), ((3,), (1,))]\n",
      "non contradictory thetas :  [((0,), (1,), (2,), (0, 1), (0, 3)), ((0,), (1,), (2,), (0, 1), (3,)), ((0,), (1,), (2,), (0, 1), (0, 1, 3), (0, 3)), ((0,), (1,), (2,), (0, 1), (0, 1, 3), (3,)), ((0,), (1,), (2,), (0, 1), (1, 3), (0, 3)), ((0,), (1,), (2,), (0, 1), (1, 3), (3,)), ((0,), (1,), (2,), (1, 3), (3,)), ((0,), (1,), (2,), (1, 3), (0, 1, 3), (0, 3)), ((0,), (1,), (2,), (1, 3), (0, 1, 3), (3,)), ((0,), (1,), (2,), (0, 1, 3), (0, 3)), ((0,), (1,), (2,), (0, 1, 3), (3,)), ((0,), (1,), (2,), (0, 3), (0, 1), (1, 2)), ((0,), (1,), (2,), (0, 3), (0, 1), (3,)), ((0,), (1,), (2,), (0, 3), (0, 1, 3), (1, 2)), ((0,), (1,), (2,), (0, 3), (0, 1, 3), (3,)), ((0,), (1,), (2,), (0, 3), (1, 3), (3,)), ((0,), (1,), (2,), (3,), (0, 1), (1, 2)), ((0,), (1,), (2,), (3,), (0, 1, 3), (1, 2)), ((0,), (1,), (2,), (3,), (1, 3), (1, 2)), ((0, 3), (1,), (2,), (0, 1), (0, 1, 3)), ((0, 3), (1,), (2,), (0, 1), (1, 3)), ((0, 3), (1,), (2,), (0, 1), (0, 1, 3), (1, 2)), ((0, 3), (1,), (2,), (0, 1), (0, 1, 3), (3,)), ((0, 3), (1,), (2,), (0, 1), (0, 1, 3), (1, 3)), ((0, 3), (1,), (2,), (0, 1), (1, 3), (1, 2)), ((0, 3), (1,), (2,), (0, 1), (1, 3), (3,)), ((0, 3), (1,), (2,), (1, 3), (0, 1, 3)), ((0, 3), (1,), (2,), (1, 3), (3,)), ((0, 3), (1,), (2,), (1, 3), (0, 1, 3), (1, 2)), ((0, 3), (1,), (2,), (1, 3), (0, 1, 3), (3,)), ((0, 3), (1,), (2,), (0, 1, 3)), ((0, 3), (1,), (2,), (0, 1, 3), (1, 2)), ((0, 3), (1,), (2,), (0, 1, 3), (3,)), ((0, 3), (1,), (2,), (3,), (0, 1, 3), (1, 2)), ((0, 3), (1,), (2,), (3,), (1, 3), (1, 2))]\n",
      "non contradictory theta min :  []\n",
      "Size of the intersection of theta preferences:  1\n",
      "Size of the intersection of theta_min preferences: 82\n"
     ]
    },
    {
     "name": "stderr",
     "output_type": "stream",
     "text": [
      "100%|██████████| 592/592 [1:24:49<00:00,  8.60s/it]\n"
     ]
    },
    {
     "name": "stdout",
     "output_type": "stream",
     "text": [
      "Theta min:  [((1,), (2,), (3,)), ((1,), (2,), (0,)), ((1,), (3,), (0,))]\n",
      "non contradictory thetas :  []\n",
      "non contradictory theta min :  []\n",
      "Size of the intersection of theta preferences:  0\n",
      "Size of the intersection of theta_min preferences: 39\n"
     ]
    },
    {
     "name": "stderr",
     "output_type": "stream",
     "text": [
      "100%|██████████| 546/546 [1:18:10<00:00,  8.59s/it]\n"
     ]
    },
    {
     "name": "stdout",
     "output_type": "stream",
     "text": [
      "Theta min:  [((1,), (0,))]\n",
      "non contradictory thetas :  []\n",
      "non contradictory theta min :  [((1,), (0,))]\n",
      "Elements that are not contradictory in theta min are not in the not contradictory elements of theta\n",
      "Size of the intersection of theta preferences:  0\n",
      "Size of the intersection of theta_min preferences: 138\n"
     ]
    }
   ],
   "source": [
    "cpt = 0\n",
    "datas = []\n",
    "generated_prefs = []\n",
    "n_items = 4\n",
    "n_preferences = 12\n",
    "\n",
    "for i in range(1,11):\n",
    "    \n",
    "    #Generate the instance\n",
    "    items = np.arange(n_items)\n",
    "    preferences = generate_tractable_prefs(n_items, n_preferences, t_min = 1000*i, t_max = 2000*i)\n",
    "    \n",
    "    #Run the simulation\n",
    "    pref_dict, n_removed = run_simulation(items, preferences)\n",
    "    \n",
    "    #Get theta and theta_min\n",
    "    thetas = list(pref_dict.keys())\n",
    "    min_thetas = get_theta_min(thetas)\n",
    "    min_pref_dict = {i:pref_dict[i] for i in min_thetas}\n",
    "    \n",
    "    #Count contradictions\n",
    "    contradiction_theta, produced_theta = count_contradictions(pref_dict)\n",
    "    contradiction_theta_min, produced_theta_min = count_contradictions(min_pref_dict)\n",
    "    \n",
    "    # Getting non contradictory models in theta and in theta min \n",
    "    non_contradictory_theta = [thetas[i] for i in np.where(contradiction_theta.sum(axis=0) == 0)[0]]\n",
    "    non_contradictory_theta_min = [min_thetas[i] for i in np.where(contradiction_theta_min.sum(axis=0) == 0)[0]]\n",
    "    \n",
    "    print(\"Theta min: \", min_thetas)\n",
    "    #print(\"Theta:\", thetas)\n",
    "    print(\"non contradictory thetas : \", non_contradictory_theta)\n",
    "    print(\"non contradictory theta min : \", non_contradictory_theta_min)\n",
    "    \n",
    "    \n",
    "    if not inclusion(non_contradictory_theta_min, non_contradictory_theta):\n",
    "        print(\"Elements that are not contradictory in theta min are not in the not contradictory elements of theta\")\n",
    "    \n",
    "    for t in min_thetas:\n",
    "        if t in non_contradictory_theta and t not in non_contradictory_theta_min:\n",
    "            print(f\"Error, {t} is not contradictory in global but is contradictory compared to elements of theta min\")\n",
    "            \n",
    "    ## Analyzing the insersections\n",
    "    preferences_theta = list(pref_dict.values())\n",
    "    preferences_theta_min = list(min_pref_dict.values())\n",
    "    \n",
    "    intersection_theta = intersection_preferences(items, preferences_theta) - preferences\n",
    "    intersection_theta_min = intersection_preferences(items, preferences_theta_min) - preferences\n",
    "    print(\"Size of the intersection of theta preferences: \", len(intersection_theta))\n",
    "    print(\"Size of the intersection of theta_min preferences:\", len(intersection_theta_min)) \n",
    "    "
   ]
  },
  {
   "cell_type": "code",
   "execution_count": null,
   "id": "530c30cd-4d7f-4e91-b302-b7d4294cbacb",
   "metadata": {},
   "outputs": [],
   "source": []
  },
  {
   "cell_type": "code",
   "execution_count": null,
   "id": "672aee82-d466-4f68-bd4f-b30990fe9e6f",
   "metadata": {},
   "outputs": [],
   "source": []
  }
 ],
 "metadata": {
  "kernelspec": {
   "display_name": "Python 3",
   "language": "python",
   "name": "python3"
  },
  "language_info": {
   "codemirror_mode": {
    "name": "ipython",
    "version": 3
   },
   "file_extension": ".py",
   "mimetype": "text/x-python",
   "name": "python",
   "nbconvert_exporter": "python",
   "pygments_lexer": "ipython3",
   "version": "3.8.10"
  }
 },
 "nbformat": 4,
 "nbformat_minor": 5
}

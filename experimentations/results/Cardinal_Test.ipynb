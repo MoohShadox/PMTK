{
 "cells": [
  {
   "cell_type": "code",
   "execution_count": 1,
   "metadata": {},
   "outputs": [],
   "source": [
    "from PMTK.experimentations.experiments_toolkit import *\n",
    "from PMTK.utility.utility_fitter import Utility_Fitter\n",
    "\n",
    "n_items = 6\n",
    "items = np.arange(n_items)\n",
    "RTD = Random_Tierlist_Decider(items, p = 0.3, n_theta= int((2**n_items - n_items)*0.1), n_tiers = 5)\n",
    "TOF = TL_Objective_Function(items, RTD)\n",
    "\n",
    "theta = list(RTD.utilities.keys())\n",
    "for s in sample_subsets(items, n_subsets = 5):\n",
    "    TOF(s)"
   ]
  },
  {
   "cell_type": "code",
   "execution_count": 2,
   "metadata": {},
   "outputs": [],
   "source": [
    "def train_cardinal(items, theta, preferences):\n",
    "    UF = Utility_Fitter(items,theta).set_model(theta).set_preferences(TOF.relation()).build_vars().build_preferences_cst().get_most_discriminant_utility().get_utility()\n",
    "    return UF\n",
    "\n",
    "def predict_cardinal(UF, subsets):\n",
    "    return UF.compute_relation(S,add_empty = False)"
   ]
  },
  {
   "cell_type": "code",
   "execution_count": 8,
   "metadata": {},
   "outputs": [
    {
     "data": {
      "text/plain": []
     },
     "execution_count": 8,
     "metadata": {},
     "output_type": "execute_result"
    }
   ],
   "source": [
    "UF = train_cardinal(items, theta, TOF.relation())\n",
    "S = list(TOF.saved.keys())\n",
    "TOF.relation() - UF.compute_relation(S,add_empty = False) "
   ]
  },
  {
   "cell_type": "code",
   "execution_count": null,
   "metadata": {},
   "outputs": [],
   "source": []
  }
 ],
 "metadata": {
  "kernelspec": {
   "display_name": "Python 3",
   "language": "python",
   "name": "python3"
  },
  "language_info": {
   "codemirror_mode": {
    "name": "ipython",
    "version": 3
   },
   "file_extension": ".py",
   "mimetype": "text/x-python",
   "name": "python",
   "nbconvert_exporter": "python",
   "pygments_lexer": "ipython3",
   "version": "3.8.10"
  }
 },
 "nbformat": 4,
 "nbformat_minor": 4
}
